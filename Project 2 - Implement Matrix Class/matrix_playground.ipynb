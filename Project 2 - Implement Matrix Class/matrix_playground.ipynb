{
 "cells": [
  {
   "cell_type": "code",
   "execution_count": 99,
   "metadata": {},
   "outputs": [
    {
     "name": "stdout",
     "output_type": "stream",
     "text": [
      "The autoreload extension is already loaded. To reload it, use:\n",
      "  %reload_ext autoreload\n"
     ]
    }
   ],
   "source": [
    "# Run this cell but don't modify it.\n",
    "\n",
    "%load_ext autoreload\n",
    "%autoreload 2\n",
    "from matrix import Matrix, zeroes, identity\n",
    "import matrix as m\n"
   ]
  },
  {
   "cell_type": "code",
   "execution_count": 100,
   "metadata": {},
   "outputs": [
    {
     "name": "stdout",
     "output_type": "stream",
     "text": [
      "m1 is\n",
      "1  2 \n",
      "3  4 \n",
      "\n",
      "m2 is\n",
      "2  5 \n",
      "6  1 \n",
      "\n",
      "we've also provided you with a function called zeros\n",
      "here's what happens when you call zeros(4,2)\n",
      "0.0  0.0 \n",
      "0.0  0.0 \n",
      "0.0  0.0 \n",
      "0.0  0.0 \n",
      "\n",
      "we've also provided you with a function called identity\n",
      "here's identity(3)\n",
      "1.0  0.0  0.0 \n",
      "0.0  1.0  0.0 \n",
      "0.0  0.0  1.0 \n",
      "\n",
      "but not everything works yet!\n",
      "for example, matrix addition...\n",
      "run the cell below to see what happens when we try...\n"
     ]
    }
   ],
   "source": [
    "# some functionality already exists... here's a demo\n",
    "\n",
    "m1 = Matrix([\n",
    "    [1, 2],\n",
    "    [3, 4]\n",
    "])\n",
    "\n",
    "m2 = Matrix([\n",
    "    [2, 5],\n",
    "    [6, 1]\n",
    "])\n",
    "\n",
    "print(\"m1 is\")\n",
    "print(m1)\n",
    "\n",
    "print(\"m2 is\")\n",
    "print(m2)\n",
    "\n",
    "print(\"we've also provided you with a function called zeros\")\n",
    "print(\"here's what happens when you call zeros(4,2)\")\n",
    "print(zeroes(4,2))\n",
    "\n",
    "print(\"we've also provided you with a function called identity\")\n",
    "print(\"here's identity(3)\")\n",
    "print(identity(3))\n",
    "\n",
    "print(\"but not everything works yet!\")\n",
    "print(\"for example, matrix addition...\")\n",
    "print(\"run the cell below to see what happens when we try...\")"
   ]
  },
  {
   "cell_type": "code",
   "execution_count": 101,
   "metadata": {},
   "outputs": [],
   "source": [
    "m1 = Matrix([\n",
    "    [1, 2],\n",
    "    [3, 4]\n",
    "])"
   ]
  },
  {
   "cell_type": "code",
   "execution_count": 102,
   "metadata": {},
   "outputs": [
    {
     "name": "stdout",
     "output_type": "stream",
     "text": [
      "<class 'matrix.Matrix'>\n",
      "m1 * m2 is\n",
      "14  7 \n",
      "30  19 \n",
      "\n"
     ]
    }
   ],
   "source": [
    "m1 = Matrix([\n",
    "    [1, 2],\n",
    "    [3, 4]\n",
    "])\n",
    "\n",
    "m2 = Matrix([\n",
    "    [2, 5],\n",
    "    [6, 1]\n",
    "])\n",
    "\n",
    "print(type(m1))\n",
    "m3 = m1 * m2\n",
    "print(\"m1 * m2 is\")\n",
    "print(m3)"
   ]
  },
  {
   "cell_type": "code",
   "execution_count": 103,
   "metadata": {},
   "outputs": [],
   "source": [
    "m1 = m.Matrix([\n",
    "        [1,2,3],\n",
    "        [4,5,6]\n",
    "        ])\n",
    "\n",
    "m2 = m.Matrix([\n",
    "        [7,-2],\n",
    "        [-3,-5],\n",
    "        [4,1]\n",
    "        ])"
   ]
  },
  {
   "cell_type": "code",
   "execution_count": 104,
   "metadata": {},
   "outputs": [],
   "source": [
    "m3=m1*m2"
   ]
  },
  {
   "cell_type": "code",
   "execution_count": 105,
   "metadata": {},
   "outputs": [],
   "source": [
    "# Try running this code. You should get an assertion error. \n",
    "# You will continue to get assertion errors until all the \n",
    "# methods in matrix.py are correctly implemented.\n",
    "\n",
    "# You can open matrix.py by selecting File > Open... \n",
    "# and then selecting matrix.py\n",
    "\n",
    "import test"
   ]
  },
  {
   "cell_type": "code",
   "execution_count": 106,
   "metadata": {},
   "outputs": [],
   "source": [
    "# open matrix.py (File > Open...) and start\n",
    "# implementing matrix methods! \n",
    "\n",
    "# when your code passes all the tests you can submit by \n",
    "# pressing the SUBMIT button in the lower right corner \n",
    "# of this page."
   ]
  },
  {
   "cell_type": "code",
   "execution_count": 107,
   "metadata": {},
   "outputs": [],
   "source": [
    "I2 = m.Matrix([\n",
    "        [1, 0],\n",
    "        [0, 1]\n",
    "        ])\n",
    "I2_neg = m.Matrix([\n",
    "        [-1, 0],\n",
    "        [0, -1]\n",
    "        ])\n",
    "\n",
    "zero = m.Matrix([\n",
    "        [0,0],\n",
    "        [0,0]\n",
    "        ])\n",
    "\n",
    "m1 = m.Matrix([\n",
    "        [1,2,3],\n",
    "        [4,5,6]\n",
    "        ])\n",
    "\n",
    "m2 = m.Matrix([\n",
    "        [7,-2],\n",
    "        [-3,-5],\n",
    "        [4,1]\n",
    "        ])\n",
    "    \n",
    "m3 = m.Matrix([\n",
    "        [8]\n",
    "        ])\n",
    "    \n",
    "m3_inv = m.Matrix([\n",
    "        [0.125]\n",
    "        ])\n",
    "\n",
    "m1_x_m2 = m.Matrix([\n",
    "        [ 13,  -9],\n",
    "        [ 37, -27]])\n",
    "\n",
    "m2_x_m1 = m.Matrix([\n",
    "        [ -1,   4,   9],\n",
    "        [-23, -31, -39],\n",
    "        [  8,  13,  18]])\n",
    "\n",
    "m1_m2_inv = m.Matrix([\n",
    "        [1.5, -0.5],\n",
    "        [2.0555556, -0.722222222]\n",
    "        ])\n",
    "\n",
    "top_ones = m.Matrix([\n",
    "        [1,1],\n",
    "        [0,0],\n",
    "        ])\n",
    "\n",
    "left_ones = m.Matrix([\n",
    "        [1,0],\n",
    "        [1,0]\n",
    "        ])\n"
   ]
  },
  {
   "cell_type": "code",
   "execution_count": 108,
   "metadata": {},
   "outputs": [],
   "source": [
    "def equal(m1, m2):\n",
    "    if len(m1.g) != len(m2.g): \n",
    "        return False\n",
    "        print(\"# of row did not match\")\n",
    "    if len(m1.g[0]) != len(m2.g[0]): \n",
    "        return False\n",
    "        print(\"# of col did not match\")\n",
    "    print(\"made it till here\")    \n",
    "    for r1, r2 in zip(m1.g, m2.g):\n",
    "        for v1, v2 in zip(r1, r2):\n",
    "            print(\"v1 is\",v1)\n",
    "            print(\"v2 is\",v2)\n",
    "            if abs(v1 - v2) > 0.0001:\n",
    "                return False\n",
    "    print(\"passed the assessment\")\n",
    "    return True"
   ]
  },
  {
   "cell_type": "code",
   "execution_count": 109,
   "metadata": {},
   "outputs": [
    {
     "name": "stdout",
     "output_type": "stream",
     "text": [
      "made it till here\n",
      "v1 is -1\n",
      "v2 is -1\n",
      "v1 is 0\n",
      "v2 is 0\n",
      "v1 is 0\n",
      "v2 is 0\n",
      "v1 is -1\n",
      "v2 is -1\n",
      "passed the assessment\n"
     ]
    }
   ],
   "source": [
    "assert equal(-I2, I2_neg), \"Error in your __neg__ function\""
   ]
  },
  {
   "cell_type": "code",
   "execution_count": 110,
   "metadata": {},
   "outputs": [
    {
     "name": "stdout",
     "output_type": "stream",
     "text": [
      "made it till here\n",
      "v1 is 0\n",
      "v2 is 0\n",
      "v1 is 0\n",
      "v2 is 0\n",
      "v1 is 0\n",
      "v2 is 0\n",
      "v1 is 0\n",
      "v2 is 0\n",
      "passed the assessment\n"
     ]
    }
   ],
   "source": [
    "assert equal((I2 + I2_neg), zero), \"Error in your __add__ function\""
   ]
  },
  {
   "cell_type": "code",
   "execution_count": 111,
   "metadata": {},
   "outputs": [
    {
     "name": "stdout",
     "output_type": "stream",
     "text": [
      "made it till here\n",
      "v1 is 13\n",
      "v2 is 13\n",
      "v1 is -9\n",
      "v2 is -9\n",
      "v1 is 37\n",
      "v2 is 37\n",
      "v1 is -27\n",
      "v2 is -27\n",
      "passed the assessment\n"
     ]
    }
   ],
   "source": [
    "assert equal(m1 * m2, m1_x_m2), \"Error in your __mul__ function\""
   ]
  },
  {
   "cell_type": "code",
   "execution_count": 112,
   "metadata": {},
   "outputs": [
    {
     "data": {
      "text/plain": [
       "13  -9 \n",
       "37  -27 "
      ]
     },
     "execution_count": 112,
     "metadata": {},
     "output_type": "execute_result"
    }
   ],
   "source": [
    "m1 * m2"
   ]
  },
  {
   "cell_type": "code",
   "execution_count": 113,
   "metadata": {},
   "outputs": [
    {
     "name": "stdout",
     "output_type": "stream",
     "text": [
      "made it till here\n",
      "v1 is 0.125\n",
      "v2 is 0.125\n",
      "passed the assessment\n"
     ]
    }
   ],
   "source": [
    "assert equal(m3.inverse(), m3_inv), \"\"\"Error in your inverse function for the 1 x 1 case\"\"\""
   ]
  },
  {
   "cell_type": "code",
   "execution_count": 114,
   "metadata": {},
   "outputs": [
    {
     "name": "stdout",
     "output_type": "stream",
     "text": [
      "made it till here\n",
      "v1 is 1.5\n",
      "v2 is 1.5\n",
      "v1 is -0.5\n",
      "v2 is -0.5\n",
      "v1 is 2.0555555555555554\n",
      "v2 is 2.0555556\n",
      "v1 is -0.7222222222222222\n",
      "v2 is -0.722222222\n",
      "passed the assessment\n"
     ]
    }
   ],
   "source": [
    "assert equal(m1_x_m2.inverse(), m1_m2_inv), \"\"\"Error in your inverse function for the first 2 x 2 case\"\"\""
   ]
  },
  {
   "cell_type": "code",
   "execution_count": 115,
   "metadata": {},
   "outputs": [
    {
     "name": "stdout",
     "output_type": "stream",
     "text": [
      "made it till here\n",
      "v1 is 1.0\n",
      "v2 is 1\n",
      "v1 is 0.0\n",
      "v2 is 0\n",
      "v1 is 0.0\n",
      "v2 is 0\n",
      "v1 is 1.0\n",
      "v2 is 1\n",
      "passed the assessment\n"
     ]
    }
   ],
   "source": [
    "assert equal(I2.inverse(), I2), \"\"\"Error in your inverse function for the second 2 x 2 case\"\"\""
   ]
  },
  {
   "cell_type": "code",
   "execution_count": 116,
   "metadata": {},
   "outputs": [
    {
     "name": "stdout",
     "output_type": "stream",
     "text": [
      "made it till here\n",
      "v1 is 1\n",
      "v2 is 1\n",
      "v1 is 0\n",
      "v2 is 0\n",
      "v1 is 1\n",
      "v2 is 1\n",
      "v1 is 0\n",
      "v2 is 0\n",
      "passed the assessment\n"
     ]
    }
   ],
   "source": [
    "assert equal(top_ones.T(), left_ones), \"Error in your T function (transpose)\""
   ]
  },
  {
   "cell_type": "code",
   "execution_count": 117,
   "metadata": {},
   "outputs": [
    {
     "data": {
      "text/plain": [
       "1  0 \n",
       "1  0 "
      ]
     },
     "execution_count": 117,
     "metadata": {},
     "output_type": "execute_result"
    }
   ],
   "source": [
    "top_ones.T()"
   ]
  },
  {
   "cell_type": "code",
   "execution_count": 118,
   "metadata": {},
   "outputs": [
    {
     "data": {
      "text/plain": [
       "1  1 \n",
       "0  0 "
      ]
     },
     "execution_count": 118,
     "metadata": {},
     "output_type": "execute_result"
    }
   ],
   "source": [
    "top_ones"
   ]
  },
  {
   "cell_type": "code",
   "execution_count": 119,
   "metadata": {},
   "outputs": [
    {
     "data": {
      "text/plain": [
       "1  0 \n",
       "1  0 "
      ]
     },
     "execution_count": 119,
     "metadata": {},
     "output_type": "execute_result"
    }
   ],
   "source": [
    "left_ones"
   ]
  },
  {
   "cell_type": "code",
   "execution_count": 120,
   "metadata": {},
   "outputs": [
    {
     "data": {
      "text/plain": [
       "13  -9 \n",
       "37  -27 "
      ]
     },
     "execution_count": 120,
     "metadata": {},
     "output_type": "execute_result"
    }
   ],
   "source": [
    "m1_x_m2"
   ]
  },
  {
   "cell_type": "code",
   "execution_count": 121,
   "metadata": {},
   "outputs": [
    {
     "data": {
      "text/plain": [
       "13  37 \n",
       "-9  -27 "
      ]
     },
     "execution_count": 121,
     "metadata": {},
     "output_type": "execute_result"
    }
   ],
   "source": [
    "m1_x_m2.T()"
   ]
  },
  {
   "cell_type": "code",
   "execution_count": 122,
   "metadata": {},
   "outputs": [
    {
     "name": "stdout",
     "output_type": "stream",
     "text": [
      "made it till here\n",
      "v1 is 1\n",
      "v2 is 1\n",
      "v1 is 0\n",
      "v2 is 0\n",
      "v1 is 1\n",
      "v2 is 1\n",
      "v1 is 0\n",
      "v2 is 0\n",
      "passed the assessment\n"
     ]
    }
   ],
   "source": [
    "assert equal(top_ones.T(), left_ones)"
   ]
  },
  {
   "cell_type": "code",
   "execution_count": 123,
   "metadata": {},
   "outputs": [
    {
     "name": "stdout",
     "output_type": "stream",
     "text": [
      "made it till here\n",
      "v1 is 1\n",
      "v2 is 1\n",
      "v1 is 1\n",
      "v2 is 1\n",
      "v1 is 0\n",
      "v2 is 0\n",
      "v1 is 0\n",
      "v2 is 0\n",
      "passed the assessment\n"
     ]
    }
   ],
   "source": [
    "assert equal(left_ones.T(), top_ones)"
   ]
  },
  {
   "cell_type": "code",
   "execution_count": 124,
   "metadata": {},
   "outputs": [
    {
     "name": "stdout",
     "output_type": "stream",
     "text": [
      "made it till here\n",
      "v1 is 0\n",
      "v2 is 0.0\n",
      "v1 is 0\n",
      "v2 is 0.0\n",
      "v1 is 0\n",
      "v2 is 0.0\n",
      "v1 is 0\n",
      "v2 is 0.0\n",
      "passed the assessment\n"
     ]
    }
   ],
   "source": [
    "assert equal(top_ones - left_ones.T(), m.zeroes(2,2))"
   ]
  },
  {
   "cell_type": "code",
   "execution_count": 125,
   "metadata": {},
   "outputs": [],
   "source": [
    "assert (4*m.identity(5))[0][0] == 4, \"Error in your __rmul__ function\""
   ]
  },
  {
   "cell_type": "code",
   "execution_count": 126,
   "metadata": {},
   "outputs": [],
   "source": [
    "assert (4*m.identity(5)).trace() == 20 , \"Error in your trace function\""
   ]
  },
  {
   "cell_type": "code",
   "execution_count": 127,
   "metadata": {},
   "outputs": [],
   "source": [
    "assert type(-I2) == type(I2_neg), \"Error: Your __neg__ function does not return a Matrix does not return a Matrix\""
   ]
  },
  {
   "cell_type": "code",
   "execution_count": 128,
   "metadata": {},
   "outputs": [
    {
     "data": {
      "text/plain": [
       "matrix.Matrix"
      ]
     },
     "execution_count": 128,
     "metadata": {},
     "output_type": "execute_result"
    }
   ],
   "source": [
    "type(-I2)"
   ]
  },
  {
   "cell_type": "code",
   "execution_count": 129,
   "metadata": {},
   "outputs": [
    {
     "data": {
      "text/plain": [
       "matrix.Matrix"
      ]
     },
     "execution_count": 129,
     "metadata": {},
     "output_type": "execute_result"
    }
   ],
   "source": [
    "type(I2_neg)"
   ]
  },
  {
   "cell_type": "code",
   "execution_count": null,
   "metadata": {},
   "outputs": [],
   "source": []
  }
 ],
 "metadata": {
  "kernelspec": {
   "display_name": "Python 3",
   "language": "python",
   "name": "python3"
  },
  "language_info": {
   "codemirror_mode": {
    "name": "ipython",
    "version": 3
   },
   "file_extension": ".py",
   "mimetype": "text/x-python",
   "name": "python",
   "nbconvert_exporter": "python",
   "pygments_lexer": "ipython3",
   "version": "3.6.3"
  }
 },
 "nbformat": 4,
 "nbformat_minor": 2
}
